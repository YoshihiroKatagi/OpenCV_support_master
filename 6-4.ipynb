{
 "cells": [
  {
   "cell_type": "code",
   "execution_count": 1,
   "source": [
    "import cv2\r\n",
    "img = cv2.imread(\"src/grapes.jpg\",0)\r\n",
    "\r\n",
    "# コールバック関数を定義\r\n",
    "def onTrackbar(position):\r\n",
    "    pass\r\n",
    "cv2.namedWindow(\"img\")\r\n",
    "threshold = 100\r\n",
    "cv2.createTrackbar(\"track\",\"img\", threshold, 255, onTrackbar)\r\n",
    "while True:\r\n",
    "    ret, img_th = cv2.threshold(img, threshold, 255, cv2.THRESH_BINARY)\r\n",
    "    # トラックバーの位置をthresholdに代入\r\n",
    "    threshold = cv2.getTrackbarPos(\"track\", \"img\")\r\n",
    "    cv2.imshow(\"img\", img_th)\r\n",
    "    if cv2.waitKey(10) == 27:\r\n",
    "        break\r\n",
    "cv2.destroyAllWindows()"
   ],
   "outputs": [],
   "metadata": {}
  },
  {
   "cell_type": "code",
   "execution_count": null,
   "source": [],
   "outputs": [],
   "metadata": {}
  }
 ],
 "metadata": {
  "kernelspec": {
   "name": "python3",
   "display_name": "Python 3.7.11 64-bit ('OpenCV': conda)"
  },
  "language_info": {
   "codemirror_mode": {
    "name": "ipython",
    "version": 3
   },
   "file_extension": ".py",
   "mimetype": "text/x-python",
   "name": "python",
   "nbconvert_exporter": "python",
   "pygments_lexer": "ipython3",
   "version": "3.7.11"
  },
  "interpreter": {
   "hash": "8dfb4e20c90e78e714cbc030135bda00556e9ba7dc893fd1a1911c47885388d4"
  }
 },
 "nbformat": 4,
 "nbformat_minor": 2
}