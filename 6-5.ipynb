{
 "cells": [
  {
   "cell_type": "code",
   "execution_count": 1,
   "source": [
    "import cv2\r\n",
    "import numpy as np\r\n",
    "\r\n",
    "img = cv2.imread(\"src/grapes.jpg\")\r\n",
    "h, w = img.shape[:2]\r\n",
    "# 平行移動量\r\n",
    "dx, dy = 30, 30\r\n",
    "\r\n",
    "# 変換行列の作成\r\n",
    "afn_mat = np.float32([[1,0,dx],[0,1,dy]])\r\n",
    "# アファイン変換の実行\r\n",
    "img_afn = cv2.warpAffine(img, afn_mat, (w, h))\r\n",
    "\r\n",
    "cv2.imshow(\"affine\", img_afn)\r\n",
    "cv2.waitKey(0)\r\n",
    "cv2.destroyAllWindows()"
   ],
   "outputs": [],
   "metadata": {}
  },
  {
   "cell_type": "code",
   "execution_count": null,
   "source": [
    "import cv2\r\n",
    "import numpy as np\r\n",
    "\r\n",
    "img = cv2.imread(\"src/grapes.jpg\")\r\n",
    "h, w = img.shape[:2]\r\n",
    "# 回転の変換行列を得る\r\n",
    "rot_mat = cv2.getRotationMatrix2D((w/2, h/2), 40, 1)\r\n",
    "# アファイン変換を行う\r\n",
    "img_afn = cv2.warpAffine(img, rot_mat, (w,h))\r\n",
    "\r\n",
    "cv2.imshow(\"affine\", img_afn)\r\n",
    "cv2.imwrite(\"img_affine2.png\", img_afn)\r\n",
    "cv2.waitKey(0)\r\n",
    "cv2.destroyAllWindows()"
   ],
   "outputs": [],
   "metadata": {}
  },
  {
   "cell_type": "code",
   "execution_count": null,
   "source": [],
   "outputs": [],
   "metadata": {}
  }
 ],
 "metadata": {
  "kernelspec": {
   "name": "python3",
   "display_name": "Python 3.7.11 64-bit ('OpenCV': conda)"
  },
  "language_info": {
   "codemirror_mode": {
    "name": "ipython",
    "version": 3
   },
   "file_extension": ".py",
   "mimetype": "text/x-python",
   "name": "python",
   "nbconvert_exporter": "python",
   "pygments_lexer": "ipython3",
   "version": "3.7.11"
  },
  "interpreter": {
   "hash": "8dfb4e20c90e78e714cbc030135bda00556e9ba7dc893fd1a1911c47885388d4"
  }
 },
 "nbformat": 4,
 "nbformat_minor": 2
}