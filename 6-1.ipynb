{
 "cells": [
  {
   "cell_type": "code",
   "execution_count": 1,
   "source": [
    "import cv2\r\n",
    "import numpy as np\r\n",
    "\r\n",
    "# γ変換のγ値\r\n",
    "gamma = 1.5\r\n",
    "\r\n",
    "img = cv2.imread(\"src/Berry.jpg\")\r\n",
    "# 変換用のnumpyアレー\r\n",
    "gamma_cvt = np.zeros((256, 1), dtype = 'uint8') \r\n",
    "for i in range(256):\r\n",
    "    gamma_cvt[i][0] = 255 * (float(i) / 255) ** (1.0 / gamma)\r\n",
    "# γ変換を行う\r\n",
    "img_gamma = cv2.LUT(img, gamma_cvt)\r\n",
    "\r\n",
    "cv2.imshow(\"img\", img)\r\n",
    "cv2.imshow(\"gamma\", img_gamma)\r\n",
    "cv2.waitKey(0)\r\n",
    "cv2.destroyAllWindows()"
   ],
   "outputs": [],
   "metadata": {}
  },
  {
   "cell_type": "code",
   "execution_count": null,
   "source": [],
   "outputs": [],
   "metadata": {}
  }
 ],
 "metadata": {
  "kernelspec": {
   "name": "python3",
   "display_name": "Python 3.7.11 64-bit ('OpenCV': conda)"
  },
  "language_info": {
   "codemirror_mode": {
    "name": "ipython",
    "version": 3
   },
   "file_extension": ".py",
   "mimetype": "text/x-python",
   "name": "python",
   "nbconvert_exporter": "python",
   "pygments_lexer": "ipython3",
   "version": "3.7.11"
  },
  "interpreter": {
   "hash": "8dfb4e20c90e78e714cbc030135bda00556e9ba7dc893fd1a1911c47885388d4"
  }
 },
 "nbformat": 4,
 "nbformat_minor": 2
}