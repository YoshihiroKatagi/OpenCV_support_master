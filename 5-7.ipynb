{
 "cells": [
  {
   "cell_type": "code",
   "execution_count": 1,
   "source": [
    "import cv2\r\n",
    "import numpy as np\r\n",
    "\r\n",
    "# 真っ白な画像をnumpyアレーで用意する\r\n",
    "img = np.ones((500,500,3), dtype=np.uint8) * 255\r\n",
    "\r\n",
    "# ラインを描く\r\n",
    "cv2.line(img, (0,0), (150,190), (255,0,0), 2)\r\n",
    "# 長方形を描く\r\n",
    "cv2.rectangle(img, (100,25), (300,150), (0,255,0),3) \r\n",
    "# 円を描く\r\n",
    "cv2.circle(img, (100,100), 55, (0,0,255), -1)\r\n",
    "# 楕円を描く\r\n",
    "cv2.ellipse(img, (250,250), (100,50),20,180,360, (255,0,0),1) \r\n",
    "\r\n",
    "# フォントの設定\r\n",
    "font = cv2.FONT_HERSHEY_SIMPLEX\r\n",
    "# 文字を書く\r\n",
    "cv2.putText(img,\"OpenCV\", (100,300), font, 1, (0,255,0),3, cv2.LINE_AA) \r\n",
    "\r\n",
    "cv2.imshow(\"img\", img)\r\n",
    "cv2.waitKey(0)\r\n",
    "cv2.destroyAllWindows()"
   ],
   "outputs": [],
   "metadata": {}
  },
  {
   "cell_type": "code",
   "execution_count": null,
   "source": [],
   "outputs": [],
   "metadata": {}
  }
 ],
 "metadata": {
  "kernelspec": {
   "name": "python3",
   "display_name": "Python 3.7.11 64-bit ('OpenCV': conda)"
  },
  "language_info": {
   "codemirror_mode": {
    "name": "ipython",
    "version": 3
   },
   "file_extension": ".py",
   "mimetype": "text/x-python",
   "name": "python",
   "nbconvert_exporter": "python",
   "pygments_lexer": "ipython3",
   "version": "3.7.11"
  },
  "interpreter": {
   "hash": "8dfb4e20c90e78e714cbc030135bda00556e9ba7dc893fd1a1911c47885388d4"
  }
 },
 "nbformat": 4,
 "nbformat_minor": 2
}