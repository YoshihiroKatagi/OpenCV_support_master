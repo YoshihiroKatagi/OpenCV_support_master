{
 "cells": [
  {
   "cell_type": "code",
   "execution_count": 1,
   "source": [
    "import cv2\r\n",
    "import sys\r\n",
    "# ビデオの読み込み\r\n",
    "cap = cv2.VideoCapture(\"movie/fan.mp4\")\r\n",
    "# 読み込めているかチェック\r\n",
    "if cap.isOpened() == False:\r\n",
    "    sys.exit()\r\n",
    "# 動画読込のループに入る\r\n",
    "while True:\r\n",
    "# 動画を1フレームだけ読み込む\r\n",
    "    ret, frame = cap.read()\r\n",
    "# 動画の最後は読み込みがFalseとなりbreakする\r\n",
    "    if ret == False:\r\n",
    "        break\r\n",
    "# 読み込んだframeを表示\r\n",
    "    cv2.imshow(\"img\", frame)\r\n",
    "    if cv2.waitKey(30) == 27:\r\n",
    "        break\r\n",
    "cv2.destroyAllWindows()"
   ],
   "outputs": [],
   "metadata": {}
  },
  {
   "cell_type": "code",
   "execution_count": 2,
   "source": [
    "import cv2\r\n",
    "import sys\r\n",
    "# ビデオの読み込み\r\n",
    "cap = cv2.VideoCapture(\"movie/fan.mp4\")\r\n",
    "# アレーサイズを取得するために予め1フレーム読み込む\r\n",
    "ret, frame = cap.read()\r\n",
    "# サイズを取得する\r\n",
    "h, w = frame.shape[:2]\r\n",
    "# コーデックの設定\r\n",
    "fourcc = cv2.VideoWriter_fourcc(*\"XVID\")\r\n",
    "# 出力するためのファイルパスなど出力設定\r\n",
    "dst = cv2.VideoWriter(\"output/test.avi\", fourcc, 30.0, (w,h))\r\n",
    "# 読み込めているかチェック\r\n",
    "if cap.isOpened() == False:\r\n",
    "    sys.exit()\r\n",
    "# 動画読込のループに入る\r\n",
    "while True:\r\n",
    "# 動画を1フレームだけ読み込む\r\n",
    "    ret, frame = cap.read()\r\n",
    "# 動画の最後は読み込みがFalseとなりbreakする\r\n",
    "    if ret == False:\r\n",
    "        break\r\n",
    "# 読み込んだframeを表示\r\n",
    "    cv2.imshow(\"img\", frame)\r\n",
    "# 動画を出力\r\n",
    "    dst.write(frame)\r\n",
    "    if cv2.waitKey(30) == 27:\r\n",
    "        break\r\n",
    "cv2.destroyAllWindows()"
   ],
   "outputs": [],
   "metadata": {}
  },
  {
   "cell_type": "code",
   "execution_count": null,
   "source": [],
   "outputs": [],
   "metadata": {}
  }
 ],
 "metadata": {
  "kernelspec": {
   "name": "python3",
   "display_name": "Python 3.7.11 64-bit ('OpenCV': conda)"
  },
  "language_info": {
   "codemirror_mode": {
    "name": "ipython",
    "version": 3
   },
   "file_extension": ".py",
   "mimetype": "text/x-python",
   "name": "python",
   "nbconvert_exporter": "python",
   "pygments_lexer": "ipython3",
   "version": "3.7.11"
  },
  "interpreter": {
   "hash": "8dfb4e20c90e78e714cbc030135bda00556e9ba7dc893fd1a1911c47885388d4"
  }
 },
 "nbformat": 4,
 "nbformat_minor": 2
}