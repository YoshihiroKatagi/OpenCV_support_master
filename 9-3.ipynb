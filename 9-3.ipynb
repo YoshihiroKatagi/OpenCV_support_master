{
 "cells": [
  {
   "cell_type": "code",
   "execution_count": 1,
   "source": [
    "import cv2\r\n",
    "\r\n",
    "cap = cv2.VideoCapture(\"movie/Cruse.mp4\")\r\n",
    "ret, frame = cap.read()\r\n",
    "h, w, ch = frame.shape\r\n",
    "# 探索窓の初期位置、大きさ\r\n",
    "rct = (600, 500, 200, 200)\r\n",
    "# MeanShiftの収束条件\r\n",
    "cri = (cv2.TERM_CRITERIA_COUNT | cv2.TERM_CRITERIA_EPS, 10, 1)\r\n",
    "while(True):\r\n",
    "    th = 100\r\n",
    "    ret, frame = cap.read()\r\n",
    "    if ret == False:\r\n",
    "        break\r\n",
    "    img_g = cv2.cvtColor(frame, cv2.COLOR_BGR2GRAY)\r\n",
    "    ret, img_bin = cv2.threshold(img_g, th, 255, cv2.THRESH_BINARY)\r\n",
    "    # MeanShift\r\n",
    "    ret, rct = cv2.meanShift(img_bin, rct, cri)\r\n",
    "    # CamShift\r\n",
    "#     ret, rct = cv2.CamShift(img_bin, rct, cri)\r\n",
    "    x, y, w, h = rct\r\n",
    "    # 探索窓を四角形で表示\r\n",
    "    cv2.rectangle(frame, (x,y), (x+w, y+h), (255,0,0),3)\r\n",
    "    cv2.imshow(\"win\", frame)\r\n",
    "    if cv2.waitKey(1) == 27:\r\n",
    "        break\r\n",
    "cv2.destroyAllWindows()"
   ],
   "outputs": [],
   "metadata": {}
  },
  {
   "cell_type": "code",
   "execution_count": null,
   "source": [],
   "outputs": [],
   "metadata": {}
  }
 ],
 "metadata": {
  "kernelspec": {
   "name": "python3",
   "display_name": "Python 3.7.11 64-bit ('OpenCV': conda)"
  },
  "language_info": {
   "codemirror_mode": {
    "name": "ipython",
    "version": 3
   },
   "file_extension": ".py",
   "mimetype": "text/x-python",
   "name": "python",
   "nbconvert_exporter": "python",
   "pygments_lexer": "ipython3",
   "version": "3.7.11"
  },
  "interpreter": {
   "hash": "8dfb4e20c90e78e714cbc030135bda00556e9ba7dc893fd1a1911c47885388d4"
  }
 },
 "nbformat": 4,
 "nbformat_minor": 2
}