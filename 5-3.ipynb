{
 "cells": [
  {
   "cell_type": "code",
   "execution_count": 1,
   "source": [
    "import cv2\r\n",
    "img = cv2.imread(\"src/Lena.jpg\")\r\n",
    "cv2.imshow(\"window_default\", img)\r\n",
    "# ウィンドウに名前を付け、設定をノーマルにする\r\n",
    "cv2.namedWindow(\"window_resize\", cv2.WINDOW_NORMAL)\r\n",
    "# ウィンドウの大きさを640 x 480に変更する\r\n",
    "cv2.resizeWindow(\"window_resize\", 640, 480)\r\n",
    "cv2.imshow(\"window_resize\", img)\r\n",
    "cv2.waitKey(0)\r\n",
    "cv2.destroyAllWindows()"
   ],
   "outputs": [],
   "metadata": {}
  },
  {
   "cell_type": "code",
   "execution_count": null,
   "source": [],
   "outputs": [],
   "metadata": {}
  }
 ],
 "metadata": {
  "kernelspec": {
   "name": "python3",
   "display_name": "Python 3.7.11 64-bit ('OpenCV': conda)"
  },
  "language_info": {
   "codemirror_mode": {
    "name": "ipython",
    "version": 3
   },
   "file_extension": ".py",
   "mimetype": "text/x-python",
   "name": "python",
   "nbconvert_exporter": "python",
   "pygments_lexer": "ipython3",
   "version": "3.7.11"
  },
  "interpreter": {
   "hash": "8dfb4e20c90e78e714cbc030135bda00556e9ba7dc893fd1a1911c47885388d4"
  }
 },
 "nbformat": 4,
 "nbformat_minor": 2
}