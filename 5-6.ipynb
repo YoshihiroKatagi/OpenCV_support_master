{
 "cells": [
  {
   "cell_type": "code",
   "execution_count": 2,
   "source": [
    "import cv2\r\n",
    "\r\n",
    "#マウスイベントのコールバック関数\r\n",
    "def print_position(event,x,y, flags, param):\r\n",
    "    if event == cv2.EVENT_LBUTTONDOWN:\r\n",
    "        print(x,y)\r\n",
    "\r\n",
    "img = cv2.imread(\"src/grapes.jpg\")\r\n",
    "cv2.namedWindow('image')\r\n",
    "#マウスイベントの設定\r\n",
    "cv2.setMouseCallback('image', print_position)\r\n",
    "\r\n",
    "cv2.imshow(\"image\", img)\r\n",
    "cv2.waitKey(0)\r\n",
    "cv2.destroyAllWindows()"
   ],
   "outputs": [],
   "metadata": {}
  },
  {
   "cell_type": "code",
   "execution_count": null,
   "source": [],
   "outputs": [],
   "metadata": {}
  }
 ],
 "metadata": {
  "kernelspec": {
   "name": "python3",
   "display_name": "Python 3.7.11 64-bit ('OpenCV': conda)"
  },
  "language_info": {
   "codemirror_mode": {
    "name": "ipython",
    "version": 3
   },
   "file_extension": ".py",
   "mimetype": "text/x-python",
   "name": "python",
   "nbconvert_exporter": "python",
   "pygments_lexer": "ipython3",
   "version": "3.7.11"
  },
  "interpreter": {
   "hash": "8dfb4e20c90e78e714cbc030135bda00556e9ba7dc893fd1a1911c47885388d4"
  }
 },
 "nbformat": 4,
 "nbformat_minor": 2
}