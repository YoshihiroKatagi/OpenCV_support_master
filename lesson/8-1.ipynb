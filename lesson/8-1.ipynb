{
 "cells": [
  {
   "cell_type": "code",
   "execution_count": 12,
   "source": [
    "import cv2\r\n",
    "import numpy as np\r\n",
    "\r\n",
    "img = cv2.imread(\"./../src/road.jpg\")\r\n",
    "\r\n",
    "img_g = cv2.imread(\"./../src/road.jpg\", 0)\r\n",
    "img_canny = cv2.Canny(img_g, 300, 450)\r\n",
    "cv2.imshow(\"img\", img_canny)\r\n",
    "cv2.waitKey(0)\r\n",
    "cv2.destroyAllWindows()\r\n",
    "\r\n",
    "lines = cv2.HoughLines(img_canny, 1, np.pi / 180, 100)\r\n",
    "\r\n",
    "for i in lines[:]:\r\n",
    "  rho = i[0][0]\r\n",
    "  theta = i[0][1]\r\n",
    "  a = np.cos(theta)\r\n",
    "  b = np.sin(theta)\r\n",
    "  x0 = a*rho\r\n",
    "  y0 = b*rho\r\n",
    "  x1 = int(x0 + 1000 * (-b))\r\n",
    "  y1 = int(y0 + 1000 * (a))\r\n",
    "  x2 = int(x0 - 1000 * (-b))\r\n",
    "  y2 = int(y0 - 1000 * (a))\r\n",
    "  cv2.line(img, (x1,y1), (x2,y2), (255, 0, 0), 1)\r\n",
    "cv2.imshow(\"img\", img)\r\n",
    "cv2.waitKey(0)\r\n",
    "cv2.destroyAllWindows()"
   ],
   "outputs": [],
   "metadata": {}
  },
  {
   "cell_type": "code",
   "execution_count": 16,
   "source": [
    "img = cv2.imread(\"../src/grapes.jpg\", 0)\r\n",
    "\r\n",
    "circles = cv2.HoughCircles(img, cv2.HOUGH_GRADIENT, dp=1, minDist=1, param1=20, param2=35, minRadius=1, maxRadius=30)\r\n",
    "\r\n",
    "img = cv2.imread(\"../src/grapes.jpg\")\r\n",
    "\r\n",
    "for i in circles[0]:\r\n",
    "  cv2.circle(img, (int(i[0]),int(i[1])), int(i[2]), (255,0,0), 1)\r\n",
    "cv2.imshow(\"img\", img)\r\n",
    "cv2.waitKey(0)\r\n",
    "cv2.destroyAllWindows()"
   ],
   "outputs": [],
   "metadata": {}
  },
  {
   "cell_type": "code",
   "execution_count": null,
   "source": [],
   "outputs": [],
   "metadata": {}
  }
 ],
 "metadata": {
  "orig_nbformat": 4,
  "language_info": {
   "name": "python",
   "version": "3.7.11",
   "mimetype": "text/x-python",
   "codemirror_mode": {
    "name": "ipython",
    "version": 3
   },
   "pygments_lexer": "ipython3",
   "nbconvert_exporter": "python",
   "file_extension": ".py"
  },
  "kernelspec": {
   "name": "python3",
   "display_name": "Python 3.7.11 64-bit ('OpenCV': conda)"
  },
  "interpreter": {
   "hash": "8dfb4e20c90e78e714cbc030135bda00556e9ba7dc893fd1a1911c47885388d4"
  }
 },
 "nbformat": 4,
 "nbformat_minor": 2
}