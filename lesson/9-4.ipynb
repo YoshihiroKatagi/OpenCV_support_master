{
 "cells": [
  {
   "cell_type": "code",
   "execution_count": 2,
   "source": [
    "import cv2\r\n",
    "import numpy as np\r\n",
    "\r\n",
    "cap = cv2.VideoCapture(\"../movie/People.mp4\")\r\n",
    "ret, frame = cap.read()\r\n",
    "h, w, ch = frame.shape\r\n",
    "\r\n",
    "frame_back = np.zeros((h,w,ch), dtype=np.float32)\r\n",
    "while True:\r\n",
    "  ret, frame = cap.read()\r\n",
    "  if ret == False:\r\n",
    "    break\r\n",
    "\r\n",
    "  frame_diff = cv2.absdiff(frame.astype(np.float32), frame_back)\r\n",
    "\r\n",
    "  cv2.accumulateWeighted(frame, frame_back, 0.03)\r\n",
    "  cv2.imshow(\"img\", frame_diff.astype(np.uint8))\r\n",
    "  if cv2.waitKey(10) == 27:\r\n",
    "    break\r\n",
    "cv2.destroyAllWindows()"
   ],
   "outputs": [],
   "metadata": {}
  },
  {
   "cell_type": "code",
   "execution_count": null,
   "source": [],
   "outputs": [],
   "metadata": {}
  }
 ],
 "metadata": {
  "orig_nbformat": 4,
  "language_info": {
   "name": "python",
   "version": "3.7.11",
   "mimetype": "text/x-python",
   "codemirror_mode": {
    "name": "ipython",
    "version": 3
   },
   "pygments_lexer": "ipython3",
   "nbconvert_exporter": "python",
   "file_extension": ".py"
  },
  "kernelspec": {
   "name": "python3",
   "display_name": "Python 3.7.11 64-bit ('OpenCV': conda)"
  },
  "interpreter": {
   "hash": "8dfb4e20c90e78e714cbc030135bda00556e9ba7dc893fd1a1911c47885388d4"
  }
 },
 "nbformat": 4,
 "nbformat_minor": 2
}