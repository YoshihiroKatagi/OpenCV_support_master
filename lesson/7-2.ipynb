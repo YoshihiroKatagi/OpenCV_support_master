{
 "cells": [
  {
   "cell_type": "code",
   "execution_count": 2,
   "source": [
    "import cv2\r\n",
    "\r\n",
    "img = cv2.imread(\"./../src/Lena.jpg\")\r\n",
    "\r\n",
    "img_blur = cv2.blur(img, (3,3))\r\n",
    "cv2.imshow(\"img_blur\", img_blur)\r\n",
    "cv2.imshow(\"img_original\", img)\r\n",
    "cv2.waitKey(0)\r\n",
    "cv2.destroyAllWindows()"
   ],
   "outputs": [],
   "metadata": {}
  },
  {
   "cell_type": "code",
   "execution_count": 3,
   "source": [
    "img_ga = cv2.GaussianBlur(img, (9,9), 2)\r\n",
    "\r\n",
    "img_me = cv2.medianBlur(img, 5)\r\n",
    "\r\n",
    "img_bi = cv2.bilateralFilter(img, 20, 30, 30)\r\n",
    "\r\n",
    "cv2.imshow(\"gaussian\", img_ga)\r\n",
    "cv2.imshow(\"median\", img_me)\r\n",
    "cv2.imshow(\"bilateral\", img_bi)\r\n",
    "cv2.imshow(\"img\", img)\r\n",
    "cv2.waitKey(0)\r\n",
    "cv2.destroyAllWindows()"
   ],
   "outputs": [],
   "metadata": {}
  },
  {
   "cell_type": "code",
   "execution_count": null,
   "source": [],
   "outputs": [],
   "metadata": {}
  }
 ],
 "metadata": {
  "orig_nbformat": 4,
  "language_info": {
   "name": "python",
   "version": "3.7.11",
   "mimetype": "text/x-python",
   "codemirror_mode": {
    "name": "ipython",
    "version": 3
   },
   "pygments_lexer": "ipython3",
   "nbconvert_exporter": "python",
   "file_extension": ".py"
  },
  "kernelspec": {
   "name": "python3",
   "display_name": "Python 3.7.11 64-bit ('OpenCV': conda)"
  },
  "interpreter": {
   "hash": "8dfb4e20c90e78e714cbc030135bda00556e9ba7dc893fd1a1911c47885388d4"
  }
 },
 "nbformat": 4,
 "nbformat_minor": 2
}