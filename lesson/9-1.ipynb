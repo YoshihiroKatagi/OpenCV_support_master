{
 "cells": [
  {
   "cell_type": "code",
   "execution_count": 1,
   "source": [
    "import cv2\r\n",
    "import numpy as np\r\n",
    "\r\n",
    "cap = cv2.VideoCapture(\"../movie/Mobility.mp4\")\r\n",
    "while True:\r\n",
    "  cv2.namedWindow(\"img\", cv2.WINDOW_NORMAL)\r\n",
    "  cv2.resizeWindow(\"img\", 640, 480)\r\n",
    "  ret, frame = cap.read()\r\n",
    "  if ret == False:\r\n",
    "    break\r\n",
    "\r\n",
    "  hsv = cv2.cvtColor(frame, cv2.COLOR_BGR2HSV)\r\n",
    "  lower = np.array([20,50,50])\r\n",
    "  upper = np.array([25,255,255])\r\n",
    "\r\n",
    "  frame_mask = cv2.inRange(hsv, lower, upper)\r\n",
    "\r\n",
    "  dst = cv2.bitwise_and(frame, frame, mask=frame_mask)\r\n",
    "  cv2.imshow(\"img\", dst)\r\n",
    "  if cv2.waitKey(10) == 27:\r\n",
    "    break\r\n",
    "cv2.destroyAllWindows()"
   ],
   "outputs": [],
   "metadata": {}
  },
  {
   "cell_type": "code",
   "execution_count": null,
   "source": [],
   "outputs": [],
   "metadata": {}
  }
 ],
 "metadata": {
  "orig_nbformat": 4,
  "language_info": {
   "name": "python",
   "version": "3.7.11",
   "mimetype": "text/x-python",
   "codemirror_mode": {
    "name": "ipython",
    "version": 3
   },
   "pygments_lexer": "ipython3",
   "nbconvert_exporter": "python",
   "file_extension": ".py"
  },
  "kernelspec": {
   "name": "python3",
   "display_name": "Python 3.7.11 64-bit ('OpenCV': conda)"
  },
  "interpreter": {
   "hash": "8dfb4e20c90e78e714cbc030135bda00556e9ba7dc893fd1a1911c47885388d4"
  }
 },
 "nbformat": 4,
 "nbformat_minor": 2
}