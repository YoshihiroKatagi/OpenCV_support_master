{
 "cells": [
  {
   "cell_type": "code",
   "execution_count": 6,
   "source": [
    "import cv2\r\n",
    "import copy\r\n",
    "\r\n",
    "img = cv2.imread(\"../src/Blob.png\")\r\n",
    "img_g = cv2.imread(\"../src/Blob.png\", 0)\r\n",
    "\r\n",
    "ret, img_bi = cv2.threshold(img_g, 100, 255, cv2.THRESH_BINARY)\r\n",
    "\r\n",
    "nLabels, labelImage, stats, centroids = cv2.connectedComponentsWithStats(img_bi)\r\n",
    "\r\n",
    "\r\n",
    "img_blob = copy.deepcopy(img)\r\n",
    "h, w = img_g.shape\r\n",
    "color = [[255,0,0],[0,255,0],[0,0,255],[255,255,0]]\r\n",
    "\r\n",
    "for y in range(h):\r\n",
    "  for x in range(w):\r\n",
    "    if labelImage[y,x] > 0:\r\n",
    "      img_blob[y,x] = color[labelImage[y,x]-1]\r\n",
    "\r\n",
    "for i in range(1, nLabels):\r\n",
    "  xc = int(centroids[i][0])\r\n",
    "  yc = int(centroids[i][1])\r\n",
    "  font = cv2.FONT_HERSHEY_COMPLEX\r\n",
    "  scale = 1\r\n",
    "  color = (255,255,255)\r\n",
    "  cv2.putText(img_blob, str(stats[i][-1]), (xc,yc), font, scale, color)\r\n",
    "\r\n",
    "cv2.imshow(\"img\", img_blob)\r\n",
    "cv2.waitKey(0)\r\n",
    "cv2.destroyAllWindows()"
   ],
   "outputs": [],
   "metadata": {}
  },
  {
   "cell_type": "code",
   "execution_count": null,
   "source": [],
   "outputs": [],
   "metadata": {}
  }
 ],
 "metadata": {
  "orig_nbformat": 4,
  "language_info": {
   "name": "python",
   "version": "3.7.11"
  },
  "kernelspec": {
   "name": "python3",
   "display_name": "Python 3.7.11 64-bit ('OpenCV': conda)"
  },
  "interpreter": {
   "hash": "8dfb4e20c90e78e714cbc030135bda00556e9ba7dc893fd1a1911c47885388d4"
  }
 },
 "nbformat": 4,
 "nbformat_minor": 2
}