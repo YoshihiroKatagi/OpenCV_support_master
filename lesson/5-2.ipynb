{
 "cells": [
  {
   "cell_type": "code",
   "execution_count": 4,
   "source": [
    "import cv2\r\n",
    "import sys\r\n",
    "\r\n",
    "cap = cv2.VideoCapture(\"./../movie/fan.mp4\")\r\n",
    "\r\n",
    "if cap.isOpened() == False:\r\n",
    "  sys.exit()\r\n",
    "\r\n",
    "while True:\r\n",
    "  ret, frame = cap.read()\r\n",
    "\r\n",
    "  if ret == False:\r\n",
    "    break\r\n",
    "  \r\n",
    "  cv2.imshow(\"img\", frame)\r\n",
    "  if cv2.waitKey(30) == 27:\r\n",
    "    break\r\n",
    "cv2.destroyAllWindows()"
   ],
   "outputs": [],
   "metadata": {}
  },
  {
   "cell_type": "code",
   "execution_count": 5,
   "source": [
    "import cv2\r\n",
    "import sys\r\n",
    "\r\n",
    "cap = cv2.VideoCapture(\"./../movie/fan.mp4\")\r\n",
    "\r\n",
    "ret, frame = cap.read()\r\n",
    "\r\n",
    "h, w = frame.shape[:2]\r\n",
    "\r\n",
    "fourcc = cv2.VideoWriter_fourcc(*\"XVID\")\r\n",
    "\r\n",
    "dst = cv2.VideoWriter(\"output/test.avi\", fourcc, 30.0, (w, h))\r\n",
    "\r\n",
    "if cap.isOpened() == False:\r\n",
    "  sys.exit()\r\n",
    "\r\n",
    "while True:\r\n",
    "  ret, frame = cap.read()\r\n",
    "\r\n",
    "  if ret == False:\r\n",
    "    break\r\n",
    "\r\n",
    "  cv2.imshow(\"img\", frame)\r\n",
    "\r\n",
    "  dst.write(frame)\r\n",
    "  \r\n",
    "  if cv2.waitKey(30) == 27:\r\n",
    "    break\r\n",
    "\r\n",
    "cv2.destroyAllWindows()"
   ],
   "outputs": [],
   "metadata": {}
  },
  {
   "cell_type": "code",
   "execution_count": null,
   "source": [],
   "outputs": [],
   "metadata": {}
  }
 ],
 "metadata": {
  "orig_nbformat": 4,
  "language_info": {
   "name": "python",
   "version": "3.7.11",
   "mimetype": "text/x-python",
   "codemirror_mode": {
    "name": "ipython",
    "version": 3
   },
   "pygments_lexer": "ipython3",
   "nbconvert_exporter": "python",
   "file_extension": ".py"
  },
  "kernelspec": {
   "name": "python3",
   "display_name": "Python 3.7.11 64-bit ('OpenCV': conda)"
  },
  "interpreter": {
   "hash": "8dfb4e20c90e78e714cbc030135bda00556e9ba7dc893fd1a1911c47885388d4"
  }
 },
 "nbformat": 4,
 "nbformat_minor": 2
}