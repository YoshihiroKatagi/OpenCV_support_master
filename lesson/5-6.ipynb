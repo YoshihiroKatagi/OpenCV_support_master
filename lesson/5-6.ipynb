{
 "cells": [
  {
   "cell_type": "code",
   "execution_count": 1,
   "source": [
    "import cv2\r\n",
    "\r\n",
    "def print_position(event,x,y,flags,param):\r\n",
    "  if event == cv2.EVENT_LBUTTONDOWN:\r\n",
    "    print(x,y)\r\n",
    "\r\n",
    "img = cv2.imread(\"./../src/grapes.jpg\")\r\n",
    "cv2.namedWindow('image')\r\n",
    "\r\n",
    "cv2.setMouseCallback('image', print_position)\r\n",
    "\r\n",
    "cv2.imshow(\"image\", img)\r\n",
    "cv2.waitKey(0)\r\n",
    "cv2.destroyAllWindows()"
   ],
   "outputs": [
    {
     "output_type": "stream",
     "name": "stdout",
     "text": [
      "508 194\n",
      "568 186\n",
      "471 159\n",
      "705 469\n",
      "564 454\n",
      "307 329\n"
     ]
    }
   ],
   "metadata": {}
  },
  {
   "cell_type": "code",
   "execution_count": null,
   "source": [],
   "outputs": [],
   "metadata": {}
  }
 ],
 "metadata": {
  "orig_nbformat": 4,
  "language_info": {
   "name": "python",
   "version": "3.7.11",
   "mimetype": "text/x-python",
   "codemirror_mode": {
    "name": "ipython",
    "version": 3
   },
   "pygments_lexer": "ipython3",
   "nbconvert_exporter": "python",
   "file_extension": ".py"
  },
  "kernelspec": {
   "name": "python3",
   "display_name": "Python 3.7.11 64-bit ('OpenCV': conda)"
  },
  "interpreter": {
   "hash": "8dfb4e20c90e78e714cbc030135bda00556e9ba7dc893fd1a1911c47885388d4"
  }
 },
 "nbformat": 4,
 "nbformat_minor": 2
}