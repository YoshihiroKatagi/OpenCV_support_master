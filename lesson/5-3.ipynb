{
 "cells": [
  {
   "cell_type": "code",
   "execution_count": null,
   "source": [
    "import cv2\r\n",
    "img = cv2.imread(\"./../src/Lena.jpg\")\r\n",
    "cv2.imshow(\"window_default\", img)\r\n",
    "\r\n",
    "cv2.namedWindow(\"window_resize\", cv2.WINDOW_NORMAL)\r\n",
    "\r\n",
    "cv2.resizeWindow(\"window_resize\", 640,480)\r\n",
    "cv2.imshow(\"window_resize\", img)\r\n",
    "cv2.waitKey(0)\r\n",
    "cv2.destroyAllWindows()"
   ],
   "outputs": [],
   "metadata": {}
  }
 ],
 "metadata": {
  "orig_nbformat": 4,
  "language_info": {
   "name": "python",
   "version": "3.7.11",
   "mimetype": "text/x-python",
   "codemirror_mode": {
    "name": "ipython",
    "version": 3
   },
   "pygments_lexer": "ipython3",
   "nbconvert_exporter": "python",
   "file_extension": ".py"
  },
  "kernelspec": {
   "name": "python3",
   "display_name": "Python 3.7.11 64-bit ('OpenCV': conda)"
  },
  "interpreter": {
   "hash": "8dfb4e20c90e78e714cbc030135bda00556e9ba7dc893fd1a1911c47885388d4"
  }
 },
 "nbformat": 4,
 "nbformat_minor": 2
}