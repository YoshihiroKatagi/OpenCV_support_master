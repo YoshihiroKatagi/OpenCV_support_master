{
 "cells": [
  {
   "cell_type": "code",
   "execution_count": 2,
   "source": [
    "import cv2\r\n",
    "import numpy as np\r\n",
    "import copy\r\n",
    "\r\n",
    "img = cv2.imread(\"../src/buildings.jpg\")\r\n",
    "img_g = cv2.imread(\"../src/buildings.jpg\", 0)\r\n",
    "\r\n",
    "img_harris = copy.deepcopy(img)\r\n",
    "\r\n",
    "img_dst = cv2.cornerHarris(img_g, 2, 3, 0.04)\r\n",
    "\r\n",
    "img_harris[img_dst > 0.05 * img_dst.max()] = [0, 0, 255]\r\n",
    "\r\n",
    "cv2.imshow(\"img\", img_harris)\r\n",
    "cv2.waitKey(0)\r\n",
    "cv2.destroyAllWindows()"
   ],
   "outputs": [],
   "metadata": {}
  },
  {
   "cell_type": "code",
   "execution_count": 3,
   "source": [
    "img_akaze = copy.deepcopy(img)\r\n",
    "\r\n",
    "akaze = cv2.AKAZE_create()\r\n",
    "kp1 = akaze.detect(img_akaze)\r\n",
    "img_akaze = cv2.drawKeypoints(img_akaze, kp1, None)\r\n",
    "\r\n",
    "\r\n",
    "img_orb = copy.deepcopy(img)\r\n",
    "\r\n",
    "orb = cv2.ORB_create()\r\n",
    "kp2 = orb.detect(img_orb)\r\n",
    "img_orb = cv2.drawKeypoints(img_orb, kp2, None)\r\n",
    "\r\n",
    "cv2.imshow(\"AKAZE\", img_akaze)\r\n",
    "cv2.imshow(\"ORB\", img_orb)\r\n",
    "cv2.waitKey(0)\r\n",
    "cv2.destroyAllWindows()"
   ],
   "outputs": [],
   "metadata": {}
  },
  {
   "cell_type": "code",
   "execution_count": null,
   "source": [],
   "outputs": [],
   "metadata": {}
  }
 ],
 "metadata": {
  "orig_nbformat": 4,
  "language_info": {
   "name": "python",
   "version": "3.7.11",
   "mimetype": "text/x-python",
   "codemirror_mode": {
    "name": "ipython",
    "version": 3
   },
   "pygments_lexer": "ipython3",
   "nbconvert_exporter": "python",
   "file_extension": ".py"
  },
  "kernelspec": {
   "name": "python3",
   "display_name": "Python 3.7.11 64-bit ('OpenCV': conda)"
  },
  "interpreter": {
   "hash": "8dfb4e20c90e78e714cbc030135bda00556e9ba7dc893fd1a1911c47885388d4"
  }
 },
 "nbformat": 4,
 "nbformat_minor": 2
}