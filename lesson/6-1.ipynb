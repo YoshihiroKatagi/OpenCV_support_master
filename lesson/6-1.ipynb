{
 "cells": [
  {
   "cell_type": "code",
   "execution_count": 3,
   "source": [
    "import cv2\r\n",
    "import numpy as np\r\n",
    "\r\n",
    "gamma = 1.5\r\n",
    "\r\n",
    "img = cv2.imread(\"./../src/Berry.jpg\")\r\n",
    "\r\n",
    "gamma_cvt = np.zeros((256,1), dtype = 'uint8')\r\n",
    "for i in range(256):\r\n",
    "  gamma_cvt[i][0] = 255 * (float(i)/255) ** (1.0/gamma)\r\n",
    "\r\n",
    "img_gamma = cv2.LUT(img, gamma_cvt)\r\n",
    "\r\n",
    "cv2.imshow(\"img\", img)\r\n",
    "cv2.imshow(\"gamma\", img_gamma)\r\n",
    "cv2.waitKey(0)\r\n",
    "cv2.destroyAllWindows()"
   ],
   "outputs": [],
   "metadata": {}
  },
  {
   "cell_type": "code",
   "execution_count": null,
   "source": [],
   "outputs": [],
   "metadata": {}
  }
 ],
 "metadata": {
  "orig_nbformat": 4,
  "language_info": {
   "name": "python",
   "version": "3.7.11",
   "mimetype": "text/x-python",
   "codemirror_mode": {
    "name": "ipython",
    "version": 3
   },
   "pygments_lexer": "ipython3",
   "nbconvert_exporter": "python",
   "file_extension": ".py"
  },
  "kernelspec": {
   "name": "python3",
   "display_name": "Python 3.7.11 64-bit ('OpenCV': conda)"
  },
  "interpreter": {
   "hash": "8dfb4e20c90e78e714cbc030135bda00556e9ba7dc893fd1a1911c47885388d4"
  }
 },
 "nbformat": 4,
 "nbformat_minor": 2
}