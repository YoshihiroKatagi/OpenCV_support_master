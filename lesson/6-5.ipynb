{
 "cells": [
  {
   "cell_type": "code",
   "execution_count": 1,
   "source": [
    "import cv2\r\n",
    "import numpy as np\r\n",
    "\r\n",
    "img = cv2.imread(\"./../src/grapes.jpg\")\r\n",
    "h, w = img.shape[:2]\r\n",
    "\r\n",
    "dx, dy = 30, 30\r\n",
    "\r\n",
    "afn_mat = np.float32([[1,0,dx],[0,1,dy]])\r\n",
    "\r\n",
    "img_afn = cv2.warpAffine(img, afn_mat, (w, h))\r\n",
    "\r\n",
    "cv2.imshow(\"affine\", img_afn)\r\n",
    "cv2.waitKey(0)\r\n",
    "cv2.destroyAllWindows()"
   ],
   "outputs": [],
   "metadata": {}
  },
  {
   "cell_type": "code",
   "execution_count": 2,
   "source": [
    "import cv2\r\n",
    "import numpy as np\r\n",
    "\r\n",
    "img = cv2.imread(\"./../src/grapes.jpg\")\r\n",
    "h, w = img.shape[:2]\r\n",
    "\r\n",
    "rot_mat = cv2.getRotationMatrix2D((w/2, h/2), 40, 1)\r\n",
    "\r\n",
    "img_afn = cv2.warpAffine(img, rot_mat, (w,h))\r\n",
    "\r\n",
    "cv2.imshow(\"affine\", img_afn)\r\n",
    "cv2.imwrite(\"img_arrine2.png\", img_afn)\r\n",
    "cv2.waitKey(0)\r\n",
    "cv2.destroyAllWindows()"
   ],
   "outputs": [],
   "metadata": {}
  },
  {
   "cell_type": "code",
   "execution_count": null,
   "source": [],
   "outputs": [],
   "metadata": {}
  }
 ],
 "metadata": {
  "orig_nbformat": 4,
  "language_info": {
   "name": "python",
   "version": "3.7.11",
   "mimetype": "text/x-python",
   "codemirror_mode": {
    "name": "ipython",
    "version": 3
   },
   "pygments_lexer": "ipython3",
   "nbconvert_exporter": "python",
   "file_extension": ".py"
  },
  "kernelspec": {
   "name": "python3",
   "display_name": "Python 3.7.11 64-bit ('OpenCV': conda)"
  },
  "interpreter": {
   "hash": "8dfb4e20c90e78e714cbc030135bda00556e9ba7dc893fd1a1911c47885388d4"
  }
 },
 "nbformat": 4,
 "nbformat_minor": 2
}