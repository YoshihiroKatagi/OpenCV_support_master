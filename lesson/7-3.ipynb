{
 "cells": [
  {
   "cell_type": "code",
   "execution_count": 1,
   "source": [
    "import cv2\r\n",
    "\r\n",
    "img = cv2.imread(\"./../src/Lena.jpg\")\r\n",
    "\r\n",
    "img_sobelx = cv2.Sobel(img, cv2.CV_32F, 1, 0, ksize=3)\r\n",
    "img_sobely = cv2.Sobel(img, cv2.CV_32F, 0, 1, ksize=3)\r\n",
    "\r\n",
    "img_sobelx = cv2.convertScaleAbs(img_sobelx)\r\n",
    "img_sobely = cv2.convertScaleAbs(img_sobely)\r\n",
    "\r\n",
    "cv2.imshow(\"x\", img_sobelx)\r\n",
    "cv2.imshow(\"y\", img_sobely)\r\n",
    "cv2.waitKey(0)\r\n",
    "cv2.destroyAllWindows()"
   ],
   "outputs": [],
   "metadata": {}
  },
  {
   "cell_type": "code",
   "execution_count": null,
   "source": [],
   "outputs": [],
   "metadata": {}
  }
 ],
 "metadata": {
  "orig_nbformat": 4,
  "language_info": {
   "name": "python",
   "version": "3.7.11",
   "mimetype": "text/x-python",
   "codemirror_mode": {
    "name": "ipython",
    "version": 3
   },
   "pygments_lexer": "ipython3",
   "nbconvert_exporter": "python",
   "file_extension": ".py"
  },
  "kernelspec": {
   "name": "python3",
   "display_name": "Python 3.7.11 64-bit ('OpenCV': conda)"
  },
  "interpreter": {
   "hash": "8dfb4e20c90e78e714cbc030135bda00556e9ba7dc893fd1a1911c47885388d4"
  }
 },
 "nbformat": 4,
 "nbformat_minor": 2
}