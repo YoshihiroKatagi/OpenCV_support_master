{
 "cells": [
  {
   "cell_type": "code",
   "execution_count": 2,
   "source": [
    "import cv2"
   ],
   "outputs": [],
   "metadata": {}
  },
  {
   "cell_type": "code",
   "execution_count": 4,
   "source": [
    "img = cv2.imread(\"./../src/Berry.jpg\")"
   ],
   "outputs": [],
   "metadata": {}
  },
  {
   "cell_type": "code",
   "execution_count": 5,
   "source": [
    "img"
   ],
   "outputs": [
    {
     "output_type": "execute_result",
     "data": {
      "text/plain": [
       "array([[[128, 176, 194],\n",
       "        [127, 175, 193],\n",
       "        [132, 175, 194],\n",
       "        ...,\n",
       "        [142, 173, 198],\n",
       "        [142, 173, 198],\n",
       "        [142, 173, 198]],\n",
       "\n",
       "       [[122, 170, 188],\n",
       "        [126, 172, 190],\n",
       "        [130, 173, 192],\n",
       "        ...,\n",
       "        [136, 167, 192],\n",
       "        [134, 165, 190],\n",
       "        [133, 164, 189]],\n",
       "\n",
       "       [[125, 171, 189],\n",
       "        [129, 175, 193],\n",
       "        [131, 174, 193],\n",
       "        ...,\n",
       "        [133, 164, 189],\n",
       "        [129, 163, 187],\n",
       "        [128, 162, 186]],\n",
       "\n",
       "       ...,\n",
       "\n",
       "       [[123, 126, 130],\n",
       "        [123, 126, 130],\n",
       "        [123, 126, 130],\n",
       "        ...,\n",
       "        [  0,   5,  19],\n",
       "        [  2,  11,  24],\n",
       "        [ 11,  20,  33]],\n",
       "\n",
       "       [[115, 118, 122],\n",
       "        [113, 116, 120],\n",
       "        [108, 111, 115],\n",
       "        ...,\n",
       "        [  3,  11,  24],\n",
       "        [  0,   8,  18],\n",
       "        [  3,  12,  22]],\n",
       "\n",
       "       [[101, 102, 106],\n",
       "        [100, 101, 105],\n",
       "        [ 94,  95,  99],\n",
       "        ...,\n",
       "        [ 31,  46,  55],\n",
       "        [ 20,  35,  44],\n",
       "        [ 15,  30,  39]]], dtype=uint8)"
      ]
     },
     "metadata": {},
     "execution_count": 5
    }
   ],
   "metadata": {}
  },
  {
   "cell_type": "code",
   "execution_count": 7,
   "source": [
    "img.shape"
   ],
   "outputs": [
    {
     "output_type": "execute_result",
     "data": {
      "text/plain": [
       "(589, 960, 3)"
      ]
     },
     "metadata": {},
     "execution_count": 7
    }
   ],
   "metadata": {}
  },
  {
   "cell_type": "code",
   "execution_count": 9,
   "source": [
    "cv2.imshow(\"test\", img)\r\n",
    "cv2.waitKey(0)\r\n",
    "cv2.destroyAllWindows()"
   ],
   "outputs": [],
   "metadata": {}
  },
  {
   "cell_type": "code",
   "execution_count": 10,
   "source": [
    "cv2.imwrite(\"./output.jpg\", img)"
   ],
   "outputs": [
    {
     "output_type": "execute_result",
     "data": {
      "text/plain": [
       "True"
      ]
     },
     "metadata": {},
     "execution_count": 10
    }
   ],
   "metadata": {}
  }
 ],
 "metadata": {
  "orig_nbformat": 4,
  "language_info": {
   "name": "python",
   "version": "3.7.11",
   "mimetype": "text/x-python",
   "codemirror_mode": {
    "name": "ipython",
    "version": 3
   },
   "pygments_lexer": "ipython3",
   "nbconvert_exporter": "python",
   "file_extension": ".py"
  },
  "kernelspec": {
   "name": "python3",
   "display_name": "Python 3.7.11 64-bit ('OpenCV': conda)"
  },
  "interpreter": {
   "hash": "8dfb4e20c90e78e714cbc030135bda00556e9ba7dc893fd1a1911c47885388d4"
  }
 },
 "nbformat": 4,
 "nbformat_minor": 2
}