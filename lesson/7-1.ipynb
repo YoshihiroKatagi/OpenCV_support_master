{
 "cells": [
  {
   "cell_type": "code",
   "execution_count": 4,
   "source": [
    "import cv2\r\n",
    "import numpy as np\r\n",
    "\r\n",
    "img = cv2.imread(\"./../src/Lena.jpg\")\r\n",
    "\r\n",
    "x = np.random.randint(512, size=500)\r\n",
    "y = np.random.randint(512, size=500)\r\n",
    "\r\n",
    "for i,j in zip(x,y):\r\n",
    "  img[i,j] = 150\r\n",
    "\r\n",
    "average_kernel = np.ones((3,3)) / 9.0\r\n",
    "\r\n",
    "img_ave = cv2.filter2D(img, -1, average_kernel)\r\n",
    "\r\n",
    "cv2.imshow(\"img_average\", img_ave)\r\n",
    "cv2.imshow(\"img\", img)\r\n",
    "cv2.waitKey(0)\r\n",
    "cv2.destroyAllWindows()"
   ],
   "outputs": [],
   "metadata": {}
  },
  {
   "cell_type": "code",
   "execution_count": null,
   "source": [],
   "outputs": [],
   "metadata": {}
  }
 ],
 "metadata": {
  "orig_nbformat": 4,
  "language_info": {
   "name": "python",
   "version": "3.7.11",
   "mimetype": "text/x-python",
   "codemirror_mode": {
    "name": "ipython",
    "version": 3
   },
   "pygments_lexer": "ipython3",
   "nbconvert_exporter": "python",
   "file_extension": ".py"
  },
  "kernelspec": {
   "name": "python3",
   "display_name": "Python 3.7.11 64-bit ('OpenCV': conda)"
  },
  "interpreter": {
   "hash": "8dfb4e20c90e78e714cbc030135bda00556e9ba7dc893fd1a1911c47885388d4"
  }
 },
 "nbformat": 4,
 "nbformat_minor": 2
}