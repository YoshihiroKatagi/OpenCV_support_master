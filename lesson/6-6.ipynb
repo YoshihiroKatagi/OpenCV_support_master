{
 "cells": [
  {
   "cell_type": "code",
   "execution_count": 1,
   "source": [
    "import cv2\r\n",
    "import numpy as np\r\n",
    "\r\n",
    "img = cv2.imread(\"./../src/floor.jpg\", 0)\r\n",
    "ret, img_th = cv2.threshold(img, 110, 255, cv2.THRESH_BINARY)\r\n",
    "cv2.imshow(\"img\", img_th)\r\n",
    "cv2.waitKey(0)\r\n",
    "cv2.destroyAllWindows()"
   ],
   "outputs": [],
   "metadata": {}
  },
  {
   "cell_type": "code",
   "execution_count": 2,
   "source": [
    "kernel = np.ones((3,3), dtype=np.uint8)\r\n",
    "\r\n",
    "img_d = cv2.dilate(img_th, kernel)\r\n",
    "\r\n",
    "img_e = cv2.erode(img_th, kernel)\r\n",
    "\r\n",
    "cv2.imshow(\"dilate\", img_d)\r\n",
    "cv2.imshow(\"erode\", img_e)\r\n",
    "cv2.waitKey(0)\r\n",
    "cv2.destroyAllWindows()"
   ],
   "outputs": [],
   "metadata": {}
  },
  {
   "cell_type": "code",
   "execution_count": 3,
   "source": [
    "img_c = cv2.morphologyEx(img_th, cv2.MORPH_CLOSE, kernel)\r\n",
    "\r\n",
    "cv2.imshow(\"closing\", img_c)\r\n",
    "cv2.imshow(\"dilate\", img_d)\r\n",
    "cv2.waitKey(0)\r\n",
    "cv2.destroyAllWindows()"
   ],
   "outputs": [],
   "metadata": {}
  },
  {
   "cell_type": "code",
   "execution_count": null,
   "source": [],
   "outputs": [],
   "metadata": {}
  }
 ],
 "metadata": {
  "orig_nbformat": 4,
  "language_info": {
   "name": "python",
   "version": "3.7.11",
   "mimetype": "text/x-python",
   "codemirror_mode": {
    "name": "ipython",
    "version": 3
   },
   "pygments_lexer": "ipython3",
   "nbconvert_exporter": "python",
   "file_extension": ".py"
  },
  "kernelspec": {
   "name": "python3",
   "display_name": "Python 3.7.11 64-bit ('OpenCV': conda)"
  },
  "interpreter": {
   "hash": "8dfb4e20c90e78e714cbc030135bda00556e9ba7dc893fd1a1911c47885388d4"
  }
 },
 "nbformat": 4,
 "nbformat_minor": 2
}