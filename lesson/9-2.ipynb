{
 "cells": [
  {
   "cell_type": "code",
   "execution_count": 2,
   "source": [
    "import cv2\r\n",
    "\r\n",
    "COUNT = 500\r\n",
    "\r\n",
    "criteria = (cv2.TERM_CRITERIA_MAX_ITER | cv2.TERM_CRITERIA_EPS, 20, 0.03)\r\n",
    "\r\n",
    "lk_params = dict(winSize=(10,10), maxLevel=4, criteria=criteria)\r\n",
    "cap = cv2.VideoCapture(\"../movie/Cosmos.mp4\")\r\n",
    "ret, frame = cap.read()\r\n",
    "frame_pre = cv2.cvtColor(frame, cv2.COLOR_BGR2GRAY)\r\n",
    "while True:\r\n",
    "  ret, frame = cap.read()\r\n",
    "  if ret == False:\r\n",
    "    break\r\n",
    "  frame_now = cv2.cvtColor(frame, cv2.COLOR_BGR2GRAY)\r\n",
    "\r\n",
    "  feature_pre = cv2.goodFeaturesToTrack(frame_pre, COUNT, 0.001, 5)\r\n",
    "  if feature_pre is None:\r\n",
    "    continue\r\n",
    "  # print(type(frame_pre), type(frame_now), type(feature_pre), type(lk_params))\r\n",
    "  # break\r\n",
    "  feature_now, status, err = cv2.calcOpticalFlowPyrLK(frame_pre, frame_now, feature_pre, None, **lk_params)\r\n",
    "  for i in range(len(feature_now)):\r\n",
    "    pre_x = int(feature_pre[i][0][0])\r\n",
    "    pre_y = int(feature_pre[i][0][1])\r\n",
    "    now_x = int(feature_now[i][0][0])\r\n",
    "    now_y = int(feature_now[i][0][1])\r\n",
    "    cv2.line(frame, (pre_x, pre_y), (now_x, now_y), (255,0,0), 3)\r\n",
    "  cv2.imshow(\"img\", frame)\r\n",
    "  frame_pre = frame_now.copy()\r\n",
    "  key = cv2.waitKey(10)\r\n",
    "  if key == 27:\r\n",
    "    break\r\n",
    "cv2.destroyAllWindows()"
   ],
   "outputs": [
    {
     "output_type": "stream",
     "name": "stdout",
     "text": [
      "<class 'numpy.ndarray'> <class 'numpy.ndarray'> <class 'numpy.ndarray'> <class 'dict'>\n"
     ]
    }
   ],
   "metadata": {}
  },
  {
   "cell_type": "code",
   "execution_count": null,
   "source": [],
   "outputs": [],
   "metadata": {}
  }
 ],
 "metadata": {
  "orig_nbformat": 4,
  "language_info": {
   "name": "python",
   "version": "3.7.11",
   "mimetype": "text/x-python",
   "codemirror_mode": {
    "name": "ipython",
    "version": 3
   },
   "pygments_lexer": "ipython3",
   "nbconvert_exporter": "python",
   "file_extension": ".py"
  },
  "kernelspec": {
   "name": "python3",
   "display_name": "Python 3.7.11 64-bit ('OpenCV': conda)"
  },
  "interpreter": {
   "hash": "8dfb4e20c90e78e714cbc030135bda00556e9ba7dc893fd1a1911c47885388d4"
  }
 },
 "nbformat": 4,
 "nbformat_minor": 2
}