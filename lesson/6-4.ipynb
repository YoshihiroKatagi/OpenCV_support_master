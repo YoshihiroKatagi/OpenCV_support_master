{
 "cells": [
  {
   "cell_type": "code",
   "execution_count": 4,
   "source": [
    "import cv2\r\n",
    "img = cv2.imread(\"./../src/grapes.jpg\", 0)\r\n",
    "\r\n",
    "def onTrackbar(position):\r\n",
    "  pass\r\n",
    "cv2.namedWindow(\"img\")\r\n",
    "threshold = 100\r\n",
    "cv2.createTrackbar(\"track\", \"img\", threshold, 255, onTrackbar)\r\n",
    "while True:\r\n",
    "  ret, img_th = cv2.threshold(img, threshold, 255, cv2.THRESH_BINARY)\r\n",
    "\r\n",
    "  threshold = cv2.getTrackbarPos(\"track\", \"img\")\r\n",
    "  cv2.imshow(\"img\", img_th)\r\n",
    "  if cv2.waitKey(10) == 27:\r\n",
    "    break\r\n",
    "cv2.destroyAllWindows()"
   ],
   "outputs": [],
   "metadata": {}
  },
  {
   "cell_type": "code",
   "execution_count": null,
   "source": [],
   "outputs": [],
   "metadata": {}
  }
 ],
 "metadata": {
  "orig_nbformat": 4,
  "language_info": {
   "name": "python",
   "version": "3.7.11",
   "mimetype": "text/x-python",
   "codemirror_mode": {
    "name": "ipython",
    "version": 3
   },
   "pygments_lexer": "ipython3",
   "nbconvert_exporter": "python",
   "file_extension": ".py"
  },
  "kernelspec": {
   "name": "python3",
   "display_name": "Python 3.7.11 64-bit ('OpenCV': conda)"
  },
  "interpreter": {
   "hash": "8dfb4e20c90e78e714cbc030135bda00556e9ba7dc893fd1a1911c47885388d4"
  }
 },
 "nbformat": 4,
 "nbformat_minor": 2
}